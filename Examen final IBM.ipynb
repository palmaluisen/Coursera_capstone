{
 "cells": [
  {
   "cell_type": "code",
   "execution_count": 2,
   "id": "b64f5498-d557-4f4d-9254-76a267c8313d",
   "metadata": {},
   "outputs": [],
   "source": [
    "# Este notebook se usara para llenar el examen final de Luis Palma de la Certificacion Profesional en Data Science de IBM"
   ]
  },
  {
   "cell_type": "code",
   "execution_count": 3,
   "id": "6332de90-cdca-4250-8deb-e57aedc52e01",
   "metadata": {},
   "outputs": [],
   "source": [
    "import pandas as pd\n",
    "import numpy as np"
   ]
  },
  {
   "cell_type": "code",
   "execution_count": 4,
   "id": "59c6c828-2661-4353-88b5-80655b6cd08e",
   "metadata": {},
   "outputs": [
    {
     "name": "stdout",
     "output_type": "stream",
     "text": [
      "¡Hola, Proyecto Final del Curso!\n"
     ]
    }
   ],
   "source": [
    "print(\"¡Hola, Proyecto Final del Curso!\")"
   ]
  },
  {
   "cell_type": "code",
   "execution_count": null,
   "id": "400dec04-a013-4e0b-b384-50f94884b44a",
   "metadata": {},
   "outputs": [],
   "source": [
    "https://github.com/palmaluisen/IBM_exam.git"
   ]
  }
 ],
 "metadata": {
  "kernelspec": {
   "display_name": "Python",
   "language": "python",
   "name": "conda-env-python-py"
  },
  "language_info": {
   "codemirror_mode": {
    "name": "ipython",
    "version": 3
   },
   "file_extension": ".py",
   "mimetype": "text/x-python",
   "name": "python",
   "nbconvert_exporter": "python",
   "pygments_lexer": "ipython3",
   "version": "3.6.13"
  }
 },
 "nbformat": 4,
 "nbformat_minor": 5
}
